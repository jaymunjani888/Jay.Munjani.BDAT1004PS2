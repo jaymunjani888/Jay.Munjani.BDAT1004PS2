{
 "cells": [
  {
   "cell_type": "markdown",
   "id": "a42cb224",
   "metadata": {},
   "source": [
    "# question 1 \n",
    "Consider the following Python module:\n",
    "a = 0\n",
    "def b():\n",
    "global a\n",
    "a = c(a)\n",
    "def c(a):\n",
    "return a + 2\n",
    "After importing the module into the interpreter, you execute:"
   ]
  },
  {
   "cell_type": "code",
   "execution_count": 1,
   "id": "f36f0a6e",
   "metadata": {},
   "outputs": [],
   "source": [
    "a = 0\n",
    "def b():\n",
    "    global a\n",
    "\n",
    "    a = c(a)\n",
    "def c(a):\n",
    "    return a + 2"
   ]
  },
  {
   "cell_type": "code",
   "execution_count": 2,
   "id": "a3c442d4",
   "metadata": {},
   "outputs": [],
   "source": [
    "b()"
   ]
  },
  {
   "cell_type": "code",
   "execution_count": 3,
   "id": "a404e878",
   "metadata": {},
   "outputs": [],
   "source": [
    "b()"
   ]
  },
  {
   "cell_type": "code",
   "execution_count": 4,
   "id": "993a0dba",
   "metadata": {},
   "outputs": [],
   "source": [
    "b()"
   ]
  },
  {
   "cell_type": "code",
   "execution_count": 5,
   "id": "735c3f87",
   "metadata": {},
   "outputs": [
    {
     "data": {
      "text/plain": [
       "6"
      ]
     },
     "execution_count": 5,
     "metadata": {},
     "output_type": "execute_result"
    }
   ],
   "source": [
    "a"
   ]
  },
  {
   "cell_type": "markdown",
   "id": "c8bf45b9",
   "metadata": {},
   "source": [
    "explaination:\n",
    "initially a=0 when we call finction b()\n",
    "in first line of function global keywod use for change the value of a global variable inside a function\n",
    "and second line assign value of a= return value of function c(a)\n",
    "first time calling function b() value of a= a+2 , a=0+2\n",
    "second time : a=a+2 , a=2+2=4\n",
    "third time: a=a+2 , a=4+2 = 6\n",
    "that's why it return 6 when we run variable a"
   ]
  },
  {
   "cell_type": "markdown",
   "id": "290934aa",
   "metadata": {},
   "source": [
    "# question 2 \n",
    "Function fileLength(), given to you, takes the name of a file as input and returns the length of the file:"
   ]
  },
  {
   "cell_type": "code",
   "execution_count": 8,
   "id": "1c1a0621",
   "metadata": {},
   "outputs": [],
   "source": [
    "def file_length(file_name):\n",
    "    try:\n",
    "        file = open(file_name)\n",
    "        contents = file.read()\n",
    "        file.close()\n",
    "        print(len(contents))\n",
    "    except:\n",
    "        print(\"File \"+file_name+\" not found.\")"
   ]
  },
  {
   "cell_type": "code",
   "execution_count": 9,
   "id": "29c4cd73",
   "metadata": {
    "scrolled": true
   },
   "outputs": [
    {
     "name": "stdout",
     "output_type": "stream",
     "text": [
      "396\n"
     ]
    }
   ],
   "source": [
    "file_length('midterm.py')"
   ]
  },
  {
   "cell_type": "code",
   "execution_count": 10,
   "id": "ff551cb6",
   "metadata": {},
   "outputs": [
    {
     "name": "stdout",
     "output_type": "stream",
     "text": [
      "File idterm.py not found.\n"
     ]
    }
   ],
   "source": [
    "file_length('idterm.py')"
   ]
  },
  {
   "cell_type": "markdown",
   "id": "f018181f",
   "metadata": {},
   "source": [
    "# question 3\n",
    "\n",
    "Write a class named Marsupial that can be used as shown below:"
   ]
  },
  {
   "cell_type": "code",
   "execution_count": 11,
   "id": "5c3efbc1",
   "metadata": {},
   "outputs": [],
   "source": [
    "class Marsupial:\n",
    "    list =[]\n",
    "    def __init__(self):\n",
    "        self = []\n",
    "    def put_in_pouch(self,things):\n",
    "        if things not in self.list:\n",
    "            self.list.append(things)\n",
    "        else:\n",
    "            return\n",
    "    def pouch_contents(self):\n",
    "        return (self.list)"
   ]
  },
  {
   "cell_type": "code",
   "execution_count": 12,
   "id": "b052cd87",
   "metadata": {},
   "outputs": [
    {
     "data": {
      "text/plain": [
       "['doll', 'firetruck', 'kitten']"
      ]
     },
     "execution_count": 12,
     "metadata": {},
     "output_type": "execute_result"
    }
   ],
   "source": [
    "m = Marsupial()\n",
    "m.put_in_pouch('doll')\n",
    "m.put_in_pouch('firetruck')\n",
    "m.put_in_pouch('kitten')\n",
    "m.pouch_contents()"
   ]
  },
  {
   "cell_type": "code",
   "execution_count": 13,
   "id": "6cc7dc0a",
   "metadata": {},
   "outputs": [],
   "source": [
    "class  Kangaroo(Marsupial):\n",
    "    def __init__(self, x1=0, y1=0):\n",
    "        self.x= x1\n",
    "        self.y= y1\n",
    "        \n",
    "    def setxy(self,x1,y1):\n",
    "        self.x = x1\n",
    "        self.y= y1\n",
    "    \n",
    "    def get(self):\n",
    "        return(self.x, self.y)\n",
    "    def jump(self, dx , dy):\n",
    "        self.x=self.x+dx\n",
    "        self.y=self.y+dy\n",
    "    def __str__(self):\n",
    "        return(f'I am a kangaroo at coordinate {self.x,self.y}')"
   ]
  },
  {
   "cell_type": "code",
   "execution_count": 14,
   "id": "6fa1c46c",
   "metadata": {},
   "outputs": [],
   "source": [
    "k = Kangaroo(0,0)"
   ]
  },
  {
   "cell_type": "code",
   "execution_count": 15,
   "id": "6ff69369",
   "metadata": {},
   "outputs": [
    {
     "name": "stdout",
     "output_type": "stream",
     "text": [
      "I am a kangaroo at coordinate (3, 0)\n"
     ]
    }
   ],
   "source": [
    "k.jump(1,0)\n",
    "k.jump(1,0)\n",
    "k.jump(1,0)\n",
    "print(k)"
   ]
  },
  {
   "cell_type": "markdown",
   "id": "038efca9",
   "metadata": {},
   "source": [
    "   # question 4\n",
    "\n",
    "Write a class named Marsupial that can be used as shown below:"
   ]
  },
  {
   "cell_type": "code",
   "execution_count": 8,
   "id": "1b52e754",
   "metadata": {},
   "outputs": [],
   "source": [
    "def collartz(x):\n",
    "    #x= input(\"enter any numner\")\n",
    "    if x==1:\n",
    "        print(1)\n",
    "    while(x!=1):\n",
    "        if x%2 == 0:\n",
    "            x=x/2\n",
    "            print(x)\n",
    "        else:\n",
    "            x=x*3+1\n",
    "            print(x)"
   ]
  },
  {
   "cell_type": "code",
   "execution_count": 9,
   "id": "46002728",
   "metadata": {},
   "outputs": [
    {
     "name": "stdout",
     "output_type": "stream",
     "text": [
      "5.0\n",
      "16.0\n",
      "8.0\n",
      "4.0\n",
      "2.0\n",
      "1.0\n"
     ]
    }
   ],
   "source": [
    "collartz(10)"
   ]
  },
  {
   "cell_type": "markdown",
   "id": "b661ec74",
   "metadata": {},
   "source": [
    "# question 5\n",
    "\n",
    "Write a recursive method binary() that takes a non-negative integer n and prints the binary representation of integer n.\n"
   ]
  },
  {
   "cell_type": "code",
   "execution_count": 16,
   "id": "98e02def",
   "metadata": {},
   "outputs": [
    {
     "name": "stdout",
     "output_type": "stream",
     "text": [
      "1010\n"
     ]
    }
   ],
   "source": [
    "def binary(x):\n",
    "    if x == 0:\n",
    "        return 0\n",
    "    else:\n",
    "        return (x % 2 + 10 * binary(int(x // 2)))\n",
    "\n",
    "\n",
    "print(binary(10))"
   ]
  },
  {
   "cell_type": "code",
   "execution_count": 17,
   "id": "4687f2ac",
   "metadata": {},
   "outputs": [
    {
     "data": {
      "text/plain": [
       "1"
      ]
     },
     "execution_count": 17,
     "metadata": {},
     "output_type": "execute_result"
    }
   ],
   "source": [
    "binary(1)"
   ]
  },
  {
   "cell_type": "code",
   "execution_count": 18,
   "id": "f479e5a2",
   "metadata": {},
   "outputs": [
    {
     "data": {
      "text/plain": [
       "11"
      ]
     },
     "execution_count": 18,
     "metadata": {},
     "output_type": "execute_result"
    }
   ],
   "source": [
    "binary(3)"
   ]
  },
  {
   "cell_type": "code",
   "execution_count": 19,
   "id": "d23055c5",
   "metadata": {},
   "outputs": [
    {
     "data": {
      "text/plain": [
       "1001"
      ]
     },
     "execution_count": 19,
     "metadata": {},
     "output_type": "execute_result"
    }
   ],
   "source": [
    "binary(9)"
   ]
  },
  {
   "cell_type": "markdown",
   "id": "01d4e8b4",
   "metadata": {},
   "source": [
    "# question 6\n",
    "Implement a class named HeadingParser that can be used to parse an HTML document, and retrieve and print all the headings in the document. You should implement your class as a subclass of HTMLParser, defined in Standard Library module html.parser. When fed a string containing HTML code, your class should print the headings, one per line and in the order in which they appear in the document. Each heading should be indented as follows: an h1 heading should have indentation 0, and h2 heading should have indentation 1, etc. Test your implementation using w3c.html."
   ]
  },
  {
   "cell_type": "code",
   "execution_count": 20,
   "id": "99298a21",
   "metadata": {},
   "outputs": [],
   "source": [
    "from html.parser import HTMLParser\n",
    "class HeadingParser(HTMLParser):\n",
    "    b1 = False\n",
    "    b2 = False\n",
    "    def handle_starttag(self, tag, attrs):\n",
    "        if tag == 'h1':\n",
    "            self.b1 = True\n",
    "        if tag == 'h2':\n",
    "            self.b2 = True\n",
    "            \n",
    "    def handle_data(self, data):\n",
    "        if self.b1:\n",
    "            print(data)\n",
    "        if self.b2:\n",
    "            print('\\t'+data)\n",
    "      \n",
    "    def handle_endtag(self, tag):\n",
    "         self.b1= False\n",
    "         self.b2= False"
   ]
  },
  {
   "cell_type": "code",
   "execution_count": 21,
   "id": "6d04291b",
   "metadata": {},
   "outputs": [],
   "source": [
    "infile = open('w3c.html')"
   ]
  },
  {
   "cell_type": "code",
   "execution_count": 22,
   "id": "4801aa4a",
   "metadata": {},
   "outputs": [],
   "source": [
    "content = infile.read()"
   ]
  },
  {
   "cell_type": "code",
   "execution_count": 23,
   "id": "14a1e5bb",
   "metadata": {},
   "outputs": [],
   "source": [
    "infile.close()"
   ]
  },
  {
   "cell_type": "code",
   "execution_count": 24,
   "id": "29f61b6c",
   "metadata": {},
   "outputs": [],
   "source": [
    "hp = HeadingParser()"
   ]
  },
  {
   "cell_type": "code",
   "execution_count": 25,
   "id": "1a32cc04",
   "metadata": {},
   "outputs": [
    {
     "name": "stdout",
     "output_type": "stream",
     "text": [
      "W3C Mission\n",
      "\tPrinciples\n"
     ]
    }
   ],
   "source": [
    "hp.feed(content)"
   ]
  },
  {
   "cell_type": "markdown",
   "id": "21e8ea1a",
   "metadata": {},
   "source": [
    "# question 7\n",
    "\n",
    "Implement recursive function webdir() that takes as input: a URL (as a string) and non-negative integers depth and indent. Your function should visit every web page reachable from the starting URL web page in depth clicks or less, and print each web page's URL. As shown below, indentation, specified by indent, should be used to indicate the depth of a URL."
   ]
  },
  {
   "cell_type": "code",
   "execution_count": 5,
   "id": "75cbd3e6",
   "metadata": {},
   "outputs": [
    {
     "name": "stdout",
     "output_type": "stream",
     "text": [
      "http://reed.cs.depaul.edu/lperkovic/test1.html\n",
      "\thttp://reed.cs.depaul.edu/lperkovic/test2.html\n",
      "\t\thttp://reed.cs.depaul.edu/lperkovic/test4.html\n",
      "\thttp://reed.cs.depaul.edu/lperkovic/test3.html\n",
      "\t\thttp://reed.cs.depaul.edu/lperkovic/test4.html\n"
     ]
    }
   ],
   "source": [
    "from urllib.request import urlopen\n",
    "from urllib.parse import urljoin\n",
    "from html.parser import HTMLParser\n",
    "\n",
    "class Collector(HTMLParser):\n",
    "    def __init__(self, url):\n",
    "        HTMLParser.__init__(self)\n",
    "        self.url = url\n",
    "        self.links = []    \n",
    "    def handle_starttag(self, tag, attrs):\n",
    "        if tag == 'a':\n",
    "            for attr in attrs:\n",
    "                if attr[0] == 'href':\n",
    "                    # construct absolute URL\n",
    "                    absolute = urljoin(self.url, attr[1])\n",
    "                    if absolute[:4] == 'http': \n",
    "                        self.links.append(absolute)        \n",
    "    def getLinks(self):\n",
    "        return self.links\n",
    "\n",
    "def webdir(url, depth, indent):\n",
    "    \n",
    "    content = urlopen(url).read().decode()\n",
    "    collector = Collector(url)\n",
    "    collector.feed(content)\n",
    "    urllist = collector.getLinks()  \n",
    "    d= depth\n",
    "    i = indent\n",
    "    \n",
    "    print(\"\\t\"*indent+\"{}\".format(url))\n",
    "    for url in urllist:        \n",
    "        if (d>0):\n",
    "            webdir(url,d,i+1)  \n",
    "        else:\n",
    "            return\n",
    "        d = d-1\n",
    "        \n",
    "webdir('http://reed.cs.depaul.edu/lperkovic/test1.html', 2, 0)"
   ]
  },
  {
   "cell_type": "markdown",
   "id": "326e6e89",
   "metadata": {},
   "source": [
    "# question 8 \n",
    "\n",
    "Write SQL queries on the below database table that return:\n"
   ]
  },
  {
   "cell_type": "code",
   "execution_count": 14,
   "id": "82f4c381",
   "metadata": {},
   "outputs": [],
   "source": [
    "import sqlite3\n",
    "con = sqlite3.connect('weather_city_data.db')\n",
    "cur = con.cursor()\n",
    "\n",
    "cur.execute(\"CREATE TABLE Wedata (City text, Country text, Season text, Temp_in_c double, rainfall_in_mm double)\")\n",
    "cur.execute(\"INSERT INTO Wedata VALUES ('Mumbai','India','Winter',24.8,5.9),('Mumbai','India','Spring',28.4,16.2),('Mumbai','India','Summer',27.9,1549.4),('Mumbai','India ','Fall',27.6,346),('London','United Kingdom','Winter',4.2,207.7),('London','United Kingdom','Spring',8.3,169.6),('London','United Kingdom','Summer',15.7,157),('London','United Kingdom','Fall',10.4,218.5),('Cairo','Egypt','Winter',13.6,16.5),('Cairo','Egypt','Spring',20.7,6.5),('Cairo','Egypt','Summer',27.7,0.1),('Cairo','Egypt','Fall',22.2,4.5)\")\n",
    "\n",
    "con.commit()"
   ]
  },
  {
   "cell_type": "code",
   "execution_count": null,
   "id": "f076f8c7",
   "metadata": {},
   "outputs": [],
   "source": []
  },
  {
   "cell_type": "code",
   "execution_count": 4,
   "id": "e53ab389",
   "metadata": {},
   "outputs": [
    {
     "name": "stdout",
     "output_type": "stream",
     "text": [
      "[('Mumbai', 'India', 'Winter', 24.8, 5.9), ('Mumbai', 'India', 'Spring', 28.4, 16.2), ('Mumbai', 'India', 'Summer', 27.9, 1549.4), ('Mumbai', 'India ', 'Fall', 27.6, 346.0), ('London', 'United Kingdom', 'Winter', 4.2, 207.7), ('London', 'United Kingdom', 'Spring', 8.3, 169.6), ('London', 'United Kingdom', 'Summer', 15.7, 157.0), ('London', 'United Kingdom', 'Fall', 10.4, 218.5), ('Cairo', 'Egypt', 'Winter', 13.6, 16.5), ('Cairo', 'Egypt', 'Spring', 20.7, 6.5), ('Cairo', 'Egypt', 'Summer', 27.7, 0.1), ('Cairo', 'Egypt', 'Fall', 22.2, 4.5)]\n"
     ]
    }
   ],
   "source": [
    "# a) All the temperature data.\n",
    "cur.execute('SELECT * FROM Wedata')\n",
    "print(cur.fetchall())"
   ]
  },
  {
   "cell_type": "code",
   "execution_count": 5,
   "id": "d37270ee",
   "metadata": {},
   "outputs": [
    {
     "name": "stdout",
     "output_type": "stream",
     "text": [
      "[(24.8,), (28.4,), (27.9,), (27.6,), (4.2,), (8.3,), (15.7,), (10.4,), (13.6,), (20.7,), (27.7,), (22.2,)]\n"
     ]
    }
   ],
   "source": [
    "# a) All the temperature data.\n",
    "cur.execute('SELECT Temp_in_c FROM Wedata')\n",
    "print(cur.fetchall())"
   ]
  },
  {
   "cell_type": "code",
   "execution_count": 6,
   "id": "79147573",
   "metadata": {},
   "outputs": [
    {
     "name": "stdout",
     "output_type": "stream",
     "text": [
      "[('Mumbai',), ('London',), ('Cairo',)]\n"
     ]
    }
   ],
   "source": [
    "# b) All the cities, but without repetition.\n",
    "cur.execute('SELECT DISTINCT City FROM Wedata ')\n",
    "print(cur.fetchall())"
   ]
  },
  {
   "cell_type": "code",
   "execution_count": 7,
   "id": "2ddc922a",
   "metadata": {},
   "outputs": [
    {
     "name": "stdout",
     "output_type": "stream",
     "text": [
      "[('Mumbai', 'India', 'Winter', 24.8, 5.9), ('Mumbai', 'India', 'Spring', 28.4, 16.2), ('Mumbai', 'India', 'Summer', 27.9, 1549.4)]\n"
     ]
    }
   ],
   "source": [
    "# c) cur.execute('SELECT * FROM Wedata WHERE Country=India')\n",
    "cur.execute('SELECT * FROM Wedata WHERE Country=\"India\"')\n",
    "print(cur.fetchall())"
   ]
  },
  {
   "cell_type": "code",
   "execution_count": 8,
   "id": "f22d1408",
   "metadata": {},
   "outputs": [
    {
     "name": "stdout",
     "output_type": "stream",
     "text": [
      "[('Mumbai', 'India ', 'Fall', 27.6, 346.0), ('London', 'United Kingdom', 'Fall', 10.4, 218.5), ('Cairo', 'Egypt', 'Fall', 22.2, 4.5)]\n"
     ]
    }
   ],
   "source": [
    "# d) All the Fall records\n",
    "cur.execute('SELECT * FROM Wedata WHERE Season=\"Fall\"')\n",
    "print(cur.fetchall())"
   ]
  },
  {
   "cell_type": "code",
   "execution_count": 9,
   "id": "05440f7c",
   "metadata": {},
   "outputs": [
    {
     "name": "stdout",
     "output_type": "stream",
     "text": [
      "[('Mumbai', 'India ', 'Fall'), ('London', 'United Kingdom', 'Winter'), ('London', 'United Kingdom', 'Fall')]\n"
     ]
    }
   ],
   "source": [
    "# e) The city, country, and season for which the average rainfall is between 200 and 400 millimeters.\n",
    "cur.execute('SELECT City,Country,Season FROM Wedata WHERE \"rainfall_in_mm\" BETWEEN 200 AND 400')\n",
    "print(cur.fetchall())"
   ]
  },
  {
   "cell_type": "code",
   "execution_count": 10,
   "id": "badd6fca",
   "metadata": {},
   "outputs": [
    {
     "name": "stdout",
     "output_type": "stream",
     "text": [
      "[('Cairo', 'Egypt'), ('Mumbai', 'India ')]\n"
     ]
    }
   ],
   "source": [
    "# f) The city and country for which the average Fall temperature is above 20 degrees, in increasing temperature order.\n",
    "\n",
    "cur.execute('SELECT City,Country FROM Wedata WHERE Season=\"Fall\" AND Temp_in_c > 20 ORDER BY Temp_in_c ')\n",
    "print(cur.fetchall())"
   ]
  },
  {
   "cell_type": "code",
   "execution_count": 11,
   "id": "bd3fc399",
   "metadata": {},
   "outputs": [
    {
     "name": "stdout",
     "output_type": "stream",
     "text": [
      "[(27.6,)]\n"
     ]
    }
   ],
   "source": [
    "# g) The total annual rainfall for Cairo.\n",
    "cur.execute('SELECT SUM(rainfall_in_mm) FROM Wedata WHERE City=\"Cairo\"')\n",
    "print(cur.fetchall())"
   ]
  },
  {
   "cell_type": "code",
   "execution_count": 15,
   "id": "a6abcaf4",
   "metadata": {},
   "outputs": [
    {
     "name": "stdout",
     "output_type": "stream",
     "text": [
      "[('Fall', 569.0), ('Spring', 192.29999999999998), ('Summer', 1706.5), ('Winter', 230.1)]\n"
     ]
    }
   ],
   "source": [
    "# h) The total rainfall for each season.\n",
    "cur.execute('SELECT Season,SUM(rainfall_in_mm) FROM Wedata GROUP BY Season')\n",
    "print(cur.fetchall())"
   ]
  },
  {
   "cell_type": "markdown",
   "id": "8643b593",
   "metadata": {},
   "source": [
    "# question 9\n",
    "\n",
    "Suppose list words is defined as follows:\n",
    ">>> words = ['The', 'quick', 'brown', 'fox', 'jumps', 'over', 'the', 'lazy', 'dog']\n",
    "Write list comprehension expressions that use list words and generate the following lists:"
   ]
  },
  {
   "cell_type": "code",
   "execution_count": 16,
   "id": "01ff1ebc",
   "metadata": {},
   "outputs": [],
   "source": [
    "# a) ['THE', 'QUICK', 'BROWN', 'FOX', 'JUMPS', 'OVER', 'THE', 'LAZY', 'DOG']\n",
    "\n",
    "words = ['The', 'quick', 'brown', 'fox', 'jumps', 'over', 'the', 'lazy', 'dog']"
   ]
  },
  {
   "cell_type": "code",
   "execution_count": 17,
   "id": "a01daf77",
   "metadata": {},
   "outputs": [
    {
     "name": "stdout",
     "output_type": "stream",
     "text": [
      "['THE', 'QUICK', 'BROWN', 'FOX', 'JUMPS', 'OVER', 'THE', 'LAZY', 'DOG']\n"
     ]
    }
   ],
   "source": [
    "wordsu = [element.upper() for element in words]\n",
    "print(wordsu)"
   ]
  },
  {
   "cell_type": "code",
   "execution_count": 18,
   "id": "21773d59",
   "metadata": {},
   "outputs": [
    {
     "name": "stdout",
     "output_type": "stream",
     "text": [
      "['the', 'quick', 'brown', 'fox', 'jumps', 'over', 'the', 'lazy', 'dog']\n"
     ]
    }
   ],
   "source": [
    "# b) ['the', 'quick', 'brown', 'fox', 'jumps', 'over', 'the', 'lazy', 'dog']\n",
    "wordsl = [element.lower() for element in words]\n",
    "print(wordsl)"
   ]
  },
  {
   "cell_type": "code",
   "execution_count": 22,
   "id": "f34f4fba",
   "metadata": {},
   "outputs": [
    {
     "name": "stdout",
     "output_type": "stream",
     "text": [
      "[3, 5, 5, 3, 5, 4, 3, 4, 3]\n"
     ]
    }
   ],
   "source": [
    "# c) [3, 5, 5, 3, 5, 4, 3, 4, 3] (the list of lengths of words in list words).\n",
    "wordslen = [len(word) for word in words]\n",
    "print(wordslen)"
   ]
  },
  {
   "cell_type": "code",
   "execution_count": 24,
   "id": "5ea95fdf",
   "metadata": {},
   "outputs": [
    {
     "name": "stdout",
     "output_type": "stream",
     "text": [
      "[['THE', 'the', 3], ['QUICK', 'quick', 5], ['BROWN', 'brown', 5], ['FOX', 'fox', 3], ['JUMPS', 'jumps', 5], ['OVER', 'over', 4], ['THE', 'the', 3], ['LAZY', 'lazy', 4], ['DOG', 'dog', 3]]\n"
     ]
    }
   ],
   "source": [
    "# d) [['THE', 'the', 3], ['QUICK', 'quick', 5], ['BROWN', 'brown', 5], ['FOX', 'fox', 3], ['JUMPS', 'jumps', 5], ['OVER', 'over', 4], ['THE', 'the', 3], ['LAZY', 'lazy', 4], ['DOG', 'dog', 3]] (the list containing a list for every word of list words, where each list contains the word in uppercase and lowercase and the length of the word.)\n",
    "newwords = [[word.upper(),word.lower(),len(word)] for word in words]\n",
    "print(newwords)"
   ]
  },
  {
   "cell_type": "code",
   "execution_count": 25,
   "id": "fdb0f883",
   "metadata": {},
   "outputs": [
    {
     "name": "stdout",
     "output_type": "stream",
     "text": [
      "['quick', 'brown', 'jumps', 'over', 'lazy']\n"
     ]
    }
   ],
   "source": [
    "# e) ['The', 'quick', 'brown', 'fox', 'jumps', 'over', 'the', 'lazy', 'dog'] (the list of words in list words containing 4 or more characters.)\n",
    "twords=[word for word in words if len(word)>3]\n",
    "print(twords)\n"
   ]
  },
  {
   "cell_type": "code",
   "execution_count": null,
   "id": "1f1a04fa",
   "metadata": {},
   "outputs": [],
   "source": []
  }
 ],
 "metadata": {
  "kernelspec": {
   "display_name": "Python 3 (ipykernel)",
   "language": "python",
   "name": "python3"
  },
  "language_info": {
   "codemirror_mode": {
    "name": "ipython",
    "version": 3
   },
   "file_extension": ".py",
   "mimetype": "text/x-python",
   "name": "python",
   "nbconvert_exporter": "python",
   "pygments_lexer": "ipython3",
   "version": "3.9.7"
  }
 },
 "nbformat": 4,
 "nbformat_minor": 5
}
